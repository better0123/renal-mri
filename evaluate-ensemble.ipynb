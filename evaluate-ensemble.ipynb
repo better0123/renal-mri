{
 "cells": [
  {
   "cell_type": "code",
   "execution_count": null,
   "metadata": {
    "papermill": {
     "duration": 0.307182,
     "end_time": "2019-10-14T21:20:56.149878",
     "exception": false,
     "start_time": "2019-10-14T21:20:55.842696",
     "status": "completed"
    },
    "tags": []
   },
   "outputs": [],
   "source": [
    "%load_ext autoreload\n",
    "%autoreload 2\n",
    "%matplotlib inline  "
   ]
  },
  {
   "cell_type": "code",
   "execution_count": null,
   "metadata": {
    "papermill": {
     "duration": 1.95306,
     "end_time": "2019-10-14T21:20:58.104336",
     "exception": false,
     "start_time": "2019-10-14T21:20:56.151276",
     "status": "completed"
    },
    "tags": []
   },
   "outputs": [],
   "source": [
    "from config import config\n",
    "import pandas\n",
    "import seaborn\n",
    "import numpy as np\n",
    "import scipy\n",
    "import matplotlib.pyplot as plt\n",
    "import papermill as pm\n",
    "from stacked_data import stacked_data, stacked_single\n",
    "from tqdm import tqdm\n",
    "from sklearn.ensemble import ExtraTreesClassifier, AdaBoostClassifier, BaggingClassifier, GradientBoostingClassifier, IsolationForest, RandomForestClassifier, VotingClassifier\n",
    "from sklearn import metrics\n",
    "from sklearn.model_selection import RandomizedSearchCV\n",
    "from sklearn.calibration import CalibratedClassifierCV\n",
    "from evaluate import calculate_confusion_matrix_stats, plot_roc_curve, plot_precision_recall, plot_confusion_matrix_ensemble"
   ]
  },
  {
   "cell_type": "code",
   "execution_count": null,
   "metadata": {},
   "outputs": [],
   "source": [
    "def warn(*args, **kwargs):\n",
    "    pass\n",
    "import warnings\n",
    "warnings.warn = warn"
   ]
  },
  {
   "cell_type": "markdown",
   "metadata": {
    "papermill": {
     "duration": 1.5e-05,
     "end_time": "2019-10-14T21:20:58.105368",
     "exception": false,
     "start_time": "2019-10-14T21:20:58.105353",
     "status": "completed"
    },
    "tags": []
   },
   "source": [
    "# Ensemble models"
   ]
  },
  {
   "cell_type": "code",
   "execution_count": null,
   "metadata": {
    "papermill": {
     "duration": 0.053626,
     "end_time": "2019-10-14T21:20:58.176725",
     "exception": false,
     "start_time": "2019-10-14T21:20:58.123099",
     "status": "completed"
    },
    "tags": [
     "parameters"
    ]
   },
   "outputs": [],
   "source": [
    "# Parameters\n",
    "MODELS = ['eff7e2af-4da0-41c4-b3a8-8e7140093544', 'e9d327c6-64f2-48e5-a666-fa0ce7eb9dc6', 'f5809fd4-ba72-4ea6-929a-44a42ba8c6fe']\n",
    "SCORE = \"accuracy\"\n"
   ]
  },
  {
   "cell_type": "code",
   "execution_count": null,
   "metadata": {
    "papermill": {
     "duration": 0.048863,
     "end_time": "2019-10-14T21:20:58.225702",
     "exception": false,
     "start_time": "2019-10-14T21:20:58.176839",
     "status": "completed"
    },
    "scrolled": true,
    "tags": []
   },
   "outputs": [],
   "source": [
    "models = MODELS\n",
    "print(\"models: {}\".format(models))"
   ]
  },
  {
   "cell_type": "code",
   "execution_count": null,
   "metadata": {
    "papermill": {
     "duration": 206.279951,
     "end_time": "2019-10-14T21:24:24.506539",
     "exception": false,
     "start_time": "2019-10-14T21:20:58.226588",
     "status": "completed"
    },
    "scrolled": true,
    "tags": []
   },
   "outputs": [],
   "source": [
    "test_1_set, test_1_labels, test_1_dataset = stacked_single(\n",
    "    models, \n",
    "    pickle=\"/data/intrepidlemon/renal/features/segmenter-3/training-features.pkl\", \n",
    "    source=\"/data/intrepidlemon/renal/extra-segmentations/segmenter-3/\"\n",
    ")\n",
    "test_2_set, test_2_labels, test_2_dataset = stacked_single(\n",
    "    models, \n",
    "    pickle=\"/data/intrepidlemon/renal/features/segmenter-4/training-features.pkl\", \n",
    "    source=\"/data/intrepidlemon/renal/extra-segmentations/segmenter-4/\"\n",
    ")\n",
    "test_1_set = np.array(list(zip(*test_1_set)))\n",
    "test_1_labels = np.array(test_1_labels)\n",
    "test_2_set = np.array(list(zip(*test_2_set)))\n",
    "test_2_labels = np.array(test_2_labels)"
   ]
  },
  {
   "cell_type": "code",
   "execution_count": null,
   "metadata": {
    "papermill": {
     "duration": 1652.374793,
     "end_time": "2019-10-14T21:51:56.882261",
     "exception": false,
     "start_time": "2019-10-14T21:24:24.507468",
     "status": "completed"
    },
    "scrolled": true,
    "tags": []
   },
   "outputs": [],
   "source": [
    "sd = stacked_data(uuids=models)"
   ]
  },
  {
   "cell_type": "code",
   "execution_count": null,
   "metadata": {
    "papermill": {
     "duration": 0.227723,
     "end_time": "2019-10-14T21:51:57.110782",
     "exception": false,
     "start_time": "2019-10-14T21:51:56.883059",
     "status": "completed"
    },
    "tags": []
   },
   "outputs": [],
   "source": [
    "train_set = np.array(list(zip(*sd[0])))\n",
    "validation_set = np.array(list(zip(*sd[1])))\n",
    "test_set = np.array(list(zip(*sd[2])))\n",
    "train_labels = np.array(sd[3])\n",
    "validation_labels = np.array(sd[4])\n",
    "test_labels = np.array(sd[5])\n",
    "train_fix_set = np.array(list(zip(*sd[6])))\n",
    "train_fix_labels = np.array(sd[7])"
   ]
  },
  {
   "cell_type": "code",
   "execution_count": null,
   "metadata": {
    "papermill": {
     "duration": 0.146019,
     "end_time": "2019-10-14T21:51:58.288019",
     "exception": false,
     "start_time": "2019-10-14T21:51:58.142000",
     "status": "completed"
    },
    "tags": []
   },
   "outputs": [],
   "source": [
    "from scipy.stats import uniform\n",
    "CLASSIFIERS = [\n",
    "    ExtraTreesClassifier,\n",
    "#    AdaBoostClassifier, \n",
    "#    BaggingClassifier, \n",
    "#    GradientBoostingClassifier, \n",
    "#    RandomForestClassifier, \n",
    "]\n",
    "PARAMETERS = [\n",
    "    dict(bootstrap=[False], criterion=['gini', 'entropy'],\n",
    "                     max_depth=[None, 2, 3, 4, 5], max_features=['auto'], max_leaf_nodes=[None, 5, 10],\n",
    "                     min_impurity_decrease=uniform(0, 1), min_impurity_split=[None],\n",
    "                     min_samples_leaf=[1], min_samples_split=[2],\n",
    "                     min_weight_fraction_leaf=uniform(0, 0.5), n_estimators=[10, 50, 100, 500, 1000], n_jobs=[5],\n",
    "                     oob_score=[False], random_state=[316], verbose=[0],\n",
    "                     warm_start=[False]), \n",
    "    dict(),   \n",
    "    dict(n_estimators=20, max_samples=0.1, max_features=1),\n",
    "    dict(),     \n",
    "    dict(),     \n",
    "]\n",
    "CLASSIFIERS = [\n",
    "    ExtraTreesClassifier,\n",
    "    AdaBoostClassifier, \n",
    "    BaggingClassifier, \n",
    "    GradientBoostingClassifier, \n",
    "    RandomForestClassifier, \n",
    "]\n",
    "PARAMETERS = [\n",
    "    dict(max_leaf_nodes=5, max_depth=2), \n",
    "    dict(),   \n",
    "    dict(n_estimators=20, max_samples=0.1, max_features=1),\n",
    "    dict(),     \n",
    "    dict(),     \n",
    "]"
   ]
  },
  {
   "cell_type": "code",
   "execution_count": null,
   "metadata": {
    "papermill": {
     "duration": 0.154496,
     "end_time": "2019-10-14T21:51:59.512095",
     "exception": false,
     "start_time": "2019-10-14T21:51:59.357599",
     "status": "completed"
    },
    "tags": []
   },
   "outputs": [],
   "source": [
    "def score_accuracy(model, x, y): \n",
    "    return metrics.accuracy_score(y, model.predict(x))\n",
    "\n",
    "def score_roc_auc(model, x, y): \n",
    "    return metrics.roc_auc_score(y, model.predict_proba(x)[:,1])\n",
    "\n",
    "def score_specificity(model, x, y): \n",
    "    return metrics.precision_score(y, model.predict(x))\n",
    "\n",
    "def score_sensitivity(model, x, y): \n",
    "    return metrics.recall_score(y, model.predict(x))\n",
    "\n",
    "SCORES = {\n",
    "    \"accuracy\": score_accuracy, \n",
    "    \"roc_auc\": score_roc_auc, \n",
    "    \"specificity\": score_specificity,\n",
    "    \"sensitivity\": score_sensitivity,\n",
    "}"
   ]
  },
  {
   "cell_type": "code",
   "execution_count": null,
   "metadata": {},
   "outputs": [],
   "source": [
    "def cv_generator(): \n",
    "    yield(list(range(len(train_set))), list(range(len(train_set), len(train_set) + len(validation_set))))"
   ]
  },
  {
   "cell_type": "code",
   "execution_count": null,
   "metadata": {
    "papermill": {
     "duration": 573.454191,
     "end_time": "2019-10-14T22:01:34.015416",
     "exception": false,
     "start_time": "2019-10-14T21:52:00.561225",
     "status": "completed"
    },
    "scrolled": true,
    "tags": []
   },
   "outputs": [],
   "source": [
    "best_acc = 0\n",
    "best_model = None\n",
    "for j, c in enumerate(CLASSIFIERS): \n",
    "    model_best = 0\n",
    "    model_acc = 0\n",
    "    for i in tqdm(range(1000)): \n",
    "        clf = c(random_state=i, **(PARAMETERS[j]))\n",
    "        clf.fit(train_set, train_labels)\n",
    "        score = SCORES[SCORE](clf, validation_set, validation_labels)\n",
    "        if score > best_acc:\n",
    "            best_acc = score\n",
    "            best_model = clf\n",
    "        if score > model_acc:\n",
    "            model_acc = score\n",
    "            model_best = clf\n",
    "    print(model_acc)\n",
    "    print(model_best)\n",
    "    print(best_acc)\n",
    "    print(best_model)"
   ]
  },
  {
   "cell_type": "code",
   "execution_count": null,
   "metadata": {
    "papermill": {
     "duration": 0.228971,
     "end_time": "2019-10-14T22:01:34.244936",
     "exception": false,
     "start_time": "2019-10-14T22:01:34.015965",
     "status": "completed"
    },
    "scrolled": true,
    "tags": []
   },
   "outputs": [],
   "source": [
    "print(\"train accuracy: {}\".format(best_model.score(train_fix_set, train_fix_labels)))\n",
    "print(\"validation accuracy: {}\".format(best_model.score(validation_set, validation_labels)))\n",
    "print(\"test accuracy: {}\".format(best_model.score(test_set, test_labels)))"
   ]
  },
  {
   "cell_type": "code",
   "execution_count": null,
   "metadata": {
    "papermill": {
     "duration": 0.267906,
     "end_time": "2019-10-14T22:01:36.577163",
     "exception": false,
     "start_time": "2019-10-14T22:01:36.309257",
     "status": "completed"
    },
    "tags": []
   },
   "outputs": [],
   "source": [
    "best_model = CalibratedClassifierCV(best_model, cv=\"prefit\")"
   ]
  },
  {
   "cell_type": "code",
   "execution_count": null,
   "metadata": {},
   "outputs": [],
   "source": [
    "best_model.fit(validation_set, validation_labels)"
   ]
  },
  {
   "cell_type": "code",
   "execution_count": null,
   "metadata": {
    "papermill": {
     "duration": 0.106423,
     "end_time": "2019-10-14T22:01:38.798106",
     "exception": false,
     "start_time": "2019-10-14T22:01:38.691683",
     "status": "completed"
    },
    "tags": []
   },
   "outputs": [],
   "source": [
    "def evaluation(name, dataset, labels): \n",
    "    model = best_model\n",
    "    predictions = model.predict(dataset)\n",
    "    probabilities = model.predict_proba(dataset)\n",
    "    pm.record(\"{}_labels\".format(name), list(labels))\n",
    "    pm.record(\"{}_probabilities\".format(name), list(probabilities[:,1]))\n",
    "    pm.record(\"{}_predictions\".format(name), list(predictions))\n",
    "    print(\"accuracy: {}\".format(metrics.accuracy_score(labels, predictions)))\n",
    "    fig = plot_confusion_matrix_ensemble(labels, predictions, [\"benign\", \"malignant\"])\n",
    "    fig.savefig(\"figures/ensemble-{}-confusion-matrix.svg\".format(name), bbox_inches = \"tight\")\n",
    "    fig.show()\n",
    "    print(pandas.DataFrame(calculate_confusion_matrix_stats(labels, probabilities[:,1])))\n",
    "    fig = plot_roc_curve(labels, probabilities[:,1])\n",
    "    fig.savefig(\"figures/ensemble-{}-roc-curve.svg\".format(name), bbox_inches = \"tight\")\n",
    "    fig.show()\n",
    "    fig = plot_precision_recall(labels, probabilities[:,1])\n",
    "    fig.savefig(\"figures/ensemble-{}-precisionrecall.svg\".format(name), bbox_inches = \"tight\")\n",
    "    fig.show()"
   ]
  },
  {
   "cell_type": "markdown",
   "metadata": {
    "papermill": {
     "duration": 4.5e-05,
     "end_time": "2019-10-14T22:01:40.979989",
     "exception": false,
     "start_time": "2019-10-14T22:01:40.979944",
     "status": "completed"
    },
    "tags": []
   },
   "source": [
    "# Training"
   ]
  },
  {
   "cell_type": "code",
   "execution_count": null,
   "metadata": {
    "papermill": {
     "duration": 1.501579,
     "end_time": "2019-10-14T22:01:44.774506",
     "exception": false,
     "start_time": "2019-10-14T22:01:43.272927",
     "status": "completed"
    },
    "tags": []
   },
   "outputs": [],
   "source": [
    "evaluation(\"train\", train_fix_set, train_fix_labels)"
   ]
  },
  {
   "cell_type": "markdown",
   "metadata": {
    "papermill": {
     "duration": 1.2e-05,
     "end_time": "2019-10-14T22:01:45.645764",
     "exception": false,
     "start_time": "2019-10-14T22:01:45.645752",
     "status": "completed"
    },
    "tags": []
   },
   "source": [
    "# Validation"
   ]
  },
  {
   "cell_type": "code",
   "execution_count": null,
   "metadata": {
    "papermill": {
     "duration": 1.643842,
     "end_time": "2019-10-14T22:01:49.645270",
     "exception": false,
     "start_time": "2019-10-14T22:01:48.001428",
     "status": "completed"
    },
    "tags": []
   },
   "outputs": [],
   "source": [
    "evaluation(\"validation\", validation_set, validation_labels)"
   ]
  },
  {
   "cell_type": "markdown",
   "metadata": {
    "papermill": {
     "duration": 1.2e-05,
     "end_time": "2019-10-14T22:01:50.413141",
     "exception": false,
     "start_time": "2019-10-14T22:01:50.413129",
     "status": "completed"
    },
    "tags": []
   },
   "source": [
    "# Test"
   ]
  },
  {
   "cell_type": "code",
   "execution_count": null,
   "metadata": {
    "papermill": {
     "duration": 1.610853,
     "end_time": "2019-10-14T22:01:54.279297",
     "exception": false,
     "start_time": "2019-10-14T22:01:52.668444",
     "status": "completed"
    },
    "tags": []
   },
   "outputs": [],
   "source": [
    "evaluation(\"test\", test_set, test_labels)"
   ]
  },
  {
   "cell_type": "code",
   "execution_count": null,
   "metadata": {
    "papermill": {
     "duration": 3.027124,
     "end_time": "2019-10-14T22:01:58.011888",
     "exception": false,
     "start_time": "2019-10-14T22:01:54.984764",
     "status": "completed"
    },
    "scrolled": false,
    "tags": []
   },
   "outputs": [],
   "source": [
    "evaluation(\"test-1\", test_1_set, test_1_labels)\n",
    "evaluation(\"test-2\", test_2_set, test_2_labels)"
   ]
  },
  {
   "cell_type": "code",
   "execution_count": null,
   "metadata": {
    "papermill": {
     "duration": 0.253257,
     "end_time": "2019-10-14T22:01:58.266067",
     "exception": false,
     "start_time": "2019-10-14T22:01:58.012810",
     "status": "completed"
    },
    "tags": []
   },
   "outputs": [],
   "source": [
    "from IPython.display import HTML\n",
    "HTML('''<script>\n",
    "code_show=true; \n",
    "function code_toggle() {\n",
    " if (code_show){\n",
    " $('div.input').hide();\n",
    " } else {\n",
    " $('div.input').show();\n",
    " }\n",
    " code_show = !code_show\n",
    "} \n",
    "$( document ).ready(code_toggle);\n",
    "</script>\n",
    "The raw code for this IPython notebook is by default hidden for easier reading.\n",
    "To toggle on/off the raw code, click <a href=\"javascript:code_toggle()\">here</a>.''')"
   ]
  }
 ],
 "metadata": {
  "kernelspec": {
   "display_name": "Python 3",
   "language": "python",
   "name": "python3"
  },
  "language_info": {
   "codemirror_mode": {
    "name": "ipython",
    "version": 3
   },
   "file_extension": ".py",
   "mimetype": "text/x-python",
   "name": "python",
   "nbconvert_exporter": "python",
   "pygments_lexer": "ipython3",
   "version": "3.6.10"
  },
  "papermill": {
   "duration": 2475.835034,
   "end_time": "2019-10-14T22:02:10.912163",
   "environment_variables": {},
   "exception": false,
   "output_path": "evaluate-ensemble-eff7e2af-4da0-41c4-b3a8-8e7140093544-e9d327c6-64f2-48e5-a666-fa0ce7eb9dc6-f5809fd4-ba72-4ea6-929a-44a42ba8c6fe.ipynb",
   "parameters": {
    "MODELS": [
     "eff7e2af-4da0-41c4-b3a8-8e7140093544",
     "e9d327c6-64f2-48e5-a666-fa0ce7eb9dc6",
     "f5809fd4-ba72-4ea6-929a-44a42ba8c6fe"
    ],
    "SCORE": "accuracy"
   },
   "start_time": "2019-10-14T21:20:55.077129",
   "version": "0.9.0"
  }
 },
 "nbformat": 4,
 "nbformat_minor": 2
}
